{
 "cells": [
  {
   "cell_type": "code",
   "execution_count": 2,
   "metadata": {},
   "outputs": [],
   "source": [
    "from nytimesarticle import articleAPI\n",
    "api = articleAPI('')"
   ]
  },
  {
   "cell_type": "code",
   "execution_count": 3,
   "metadata": {},
   "outputs": [],
   "source": [
    "def getUrlsNYtimes(Query, filename):\n",
    "    print(Query)\n",
    "    nytUrls = []    \n",
    "    for i in range(10):\n",
    "        articles = api.search(q = Query, page=i, begin_date=20190101)\n",
    "        \n",
    "        with open(filename, 'a+') as output:\n",
    "            for j in articles['response']['docs']:\n",
    "                output.write(\"%s\\n\" % j['web_url'])"
   ]
  },
  {
   "cell_type": "code",
   "execution_count": 7,
   "metadata": {},
   "outputs": [
    {
     "name": "stdout",
     "output_type": "stream",
     "text": [
      "superhero\n"
     ]
    }
   ],
   "source": [
    "# 110\n",
    "getUrlsNYtimes('action movies', 'nytimes_actionmovies_urls.txt') \n",
    "getUrlsNYtimes('superhero', 'nytimes_actionmovies_urls.txt') \n",
    "# 100"
   ]
  },
  {
   "cell_type": "code",
   "execution_count": 188,
   "metadata": {},
   "outputs": [
    {
     "name": "stdout",
     "output_type": "stream",
     "text": [
      "Satire\n"
     ]
    }
   ],
   "source": [
    "# 256\n",
    "getUrlsNYtimes('Comedy movies', 'nytimes_Comedymovies_urls.txt') \n",
    "getUrlsNYtimes('Humorous movie', 'nytimes_Comedymovies_urls.txt')\n",
    "getUrlsNYtimes('Parody', 'nytimes_Comedymovies_urls.txt')\n",
    "getUrlsNYtimes('Romantic comedy', 'nytimes_Comedymovies_urls.txt') \n",
    "getUrlsNYtimes('Comic fantasy', 'nytimes_Comedymovies_urls.txt') \n",
    "getUrlsNYtimes('Satire', 'nytimes_Comedymovies_urls.txt')\n",
    "# 242"
   ]
  },
  {
   "cell_type": "code",
   "execution_count": 196,
   "metadata": {},
   "outputs": [
    {
     "name": "stdout",
     "output_type": "stream",
     "text": [
      "Murder mystery\n"
     ]
    }
   ],
   "source": [
    "# 100\n",
    "getUrlsNYtimes('Crime movies', 'nytimes_Crimemovies_urls.txt') \n",
    "getUrlsNYtimes('Courtroom drama', 'nytimes_Crimemovies_urls.txt') \n",
    "getUrlsNYtimes('Detective story', 'nytimes_Crimemovies_urls.txt') \n",
    "getUrlsNYtimes('Gangster', 'nytimes_Crimemovies_urls.txt') \n",
    "getUrlsNYtimes('Murder mystery', 'nytimes_Crimemovies_urls.txt')\n",
    "# 95"
   ]
  },
  {
   "cell_type": "code",
   "execution_count": 8,
   "metadata": {},
   "outputs": [
    {
     "name": "stdout",
     "output_type": "stream",
     "text": [
      "SciFi\n"
     ]
    }
   ],
   "source": [
    "# 200\n",
    "getUrlsNYtimes('Fantasy movies', 'nytimes_Fantasymovies_urls.txt')\n",
    "getUrlsNYtimes('Fairy Tales', 'nytimes_Fantasymovies_urls.txt')\n",
    "getUrlsNYtimes('Science fiction', 'nytimes_Fantasymovies_urls.txt')\n",
    "getUrlsNYtimes('Sci-Fi', 'nytimes_Fantasymovies_urls.txt')\n",
    "getUrlsNYtimes('SciFi', 'nytimes_Fantasymovies_urls.txt')\n",
    "# 190"
   ]
  },
  {
   "cell_type": "code",
   "execution_count": 212,
   "metadata": {},
   "outputs": [
    {
     "name": "stdout",
     "output_type": "stream",
     "text": [
      "Slasher movies\n"
     ]
    }
   ],
   "source": [
    "# 14\n",
    "getUrlsNYtimes('Horror movies', 'nytimes_Horrormovies_urls.txt')\n",
    "getUrlsNYtimes('Ghost movies', 'nytimes_Horrormovies_urls.txt')\n",
    "getUrlsNYtimes('Monster movies', 'nytimes_Horrormovies_urls.txt')\n",
    "getUrlsNYtimes('Vampire movies', 'nytimes_Horrormovies_urls.txt')\n",
    "getUrlsNYtimes('Slasher movies', 'nytimes_Horrormovies_urls.txt')\n",
    "# 12"
   ]
  },
  {
   "cell_type": "code",
   "execution_count": 226,
   "metadata": {},
   "outputs": [
    {
     "name": "stdout",
     "output_type": "stream",
     "text": [
      "love stories\n"
     ]
    }
   ],
   "source": [
    "# 101\n",
    "getUrlsNYtimes('Romantic movie', 'nytimes_Romancemovies_urls.txt')\n",
    "getUrlsNYtimes('love stories', 'nytimes_Romancemovies_urls.txt')\n",
    "# 98"
   ]
  },
  {
   "cell_type": "code",
   "execution_count": 218,
   "metadata": {},
   "outputs": [
    {
     "name": "stdout",
     "output_type": "stream",
     "text": [
      "Anime\n"
     ]
    }
   ],
   "source": [
    "# 58\n",
    "getUrlsNYtimes('Animated movies', 'nytimes_Animatedmovies_urls.txt') \n",
    "getUrlsNYtimes('Animation movie', 'nytimes_Animatedmovies_urls.txt') \n",
    "getUrlsNYtimes('Anime', 'nytimes_Animatedmovies_urls.txt')\n",
    "# 54"
   ]
  },
  {
   "cell_type": "code",
   "execution_count": 220,
   "metadata": {},
   "outputs": [
    {
     "name": "stdout",
     "output_type": "stream",
     "text": [
      "Social movies\n"
     ]
    }
   ],
   "source": [
    "# 0\n",
    "getUrlsNYtimes('Social movies', 'nytimes_Socialmovies_urls.txt') "
   ]
  },
  {
   "cell_type": "code",
   "execution_count": 202,
   "metadata": {},
   "outputs": [
    {
     "name": "stdout",
     "output_type": "stream",
     "text": [
      "Thriller movies\n"
     ]
    }
   ],
   "source": [
    "# 0\n",
    "getUrlsNYtimes('Thriller movies', 'nytimes_Thrillermovies_urls.txt') "
   ]
  },
  {
   "cell_type": "code",
   "execution_count": 197,
   "metadata": {},
   "outputs": [
    {
     "name": "stdout",
     "output_type": "stream",
     "text": [
      "Drama movies\n"
     ]
    }
   ],
   "source": [
    "# 0\n",
    "getUrlsNYtimes('Drama movies', 'nytimes_Dramamovies_urls.txt') "
   ]
  },
  {
   "cell_type": "markdown",
   "metadata": {},
   "source": [
    "# Preprocessing"
   ]
  },
  {
   "cell_type": "code",
   "execution_count": 2,
   "metadata": {},
   "outputs": [],
   "source": [
    "def getContentIntoFile(urlfileName, contentFileName):\n",
    "    import urllib\n",
    "    from bs4 import BeautifulSoup\n",
    "    import re\n",
    "    import string\n",
    "    import textcleaner as tc\n",
    "    import nltk\n",
    "    from stop_words import get_stop_words\n",
    "    from nltk.corpus import stopwords\n",
    "#     from nltk.stem.porter import PorterStemmer\n",
    "    from nltk.stem import WordNetLemmatizer \n",
    "\n",
    "    i=0\n",
    "    lemmatizer = WordNetLemmatizer() \n",
    "    file = open(urlfileName,'r')\n",
    "    \n",
    "    stop_words = set(stopwords.words('english'))\n",
    "    stop_words.add('said')\n",
    "    stop_words.add('mr')\n",
    "    stop_words.add('ms')\n",
    "    stop_words.add('like')\n",
    "    stop_words.add('also')\n",
    "    stop_words.add('one')\n",
    "    stop_words.add('two')\n",
    "    stop_words.add('would')\n",
    "    stop_words.add('first')\n",
    "    \n",
    "    for line in file:\n",
    "        x1 = contentFileName + str(i)\n",
    "        try:\n",
    "            if line is not None:\n",
    "                with urllib.request.urlopen(line) as response:\n",
    "                    if response is not None:\n",
    "                        html = response.read()\n",
    "                        soup = BeautifulSoup(html, 'html.parser')\n",
    "                        inner_contents = soup.find(\"section\", itemprop=\"articleBody\")\n",
    "                        if inner_contents is not None:\n",
    "                            inner_contents=inner_contents.text.strip().encode(\"utf-8\").lower()\n",
    "                            actualString = inner_contents.decode(\"utf-8\",'ignore')\n",
    "                            stemmed = lemmatizer.lemmatize(actualString) \n",
    "                            result=re.sub('[\\W\\_]',' ',stemmed) #Remove special chars\n",
    "                            result = re.sub(\" \\d+\", \" \", result) #Remove numbers\n",
    "                            x=result.split(\" \")\n",
    "                            filtered_sentence = [w for w in x if not w in stop_words]\n",
    "    #                         stemmed = lemmatizer.lemmatize(filtered_sentence)\n",
    "    #                         porter = PorterStemmer()\n",
    "    #                         stemmed = [porter.stem(word) for word in filtered_sentence]\n",
    "                            for x in filtered_sentence:\n",
    "                                with open(x1,'a+',encoding='utf-8') as outputFile:\n",
    "                                    if x is not '\\u2713':\n",
    "                                        outputFile.write(x)\n",
    "                                        outputFile.write(' ')\n",
    "        except:\n",
    "            pass\n",
    "        i=i+1"
   ]
  },
  {
   "cell_type": "code",
   "execution_count": 3,
   "metadata": {},
   "outputs": [],
   "source": [
    "getContentIntoFile('nytimes_actionmovies_urls.txt', 'nytimes_actionmovies.txt')\n",
    "getContentIntoFile('nytimes_Comedymovies_urls.txt', 'nytimes_Comedymovies.txt')\n",
    "getContentIntoFile('nytimes_Crimemovies_urls.txt', 'nytimes_Crimemovies.txt')\n",
    "getContentIntoFile('nytimes_Fantasymovies_urls.txt', 'nytimes_Fantasymovies.txt')\n",
    "getContentIntoFile('nytimes_Horrormovies_urls.txt', 'nytimes_Horrormovies.txt')\n",
    "getContentIntoFile('nytimes_Romancemovies_urls.txt', 'nytimes_Romancemovies.txt')\n",
    "getContentIntoFile('nytimes_Animatedmovies_urls.txt', 'nytimes_Animatedmovies.txt')\n",
    "\n",
    "# getContentIntoFile('nytimes_Socialmovies_urls.txt', 'nytimes_Socialmovies.txt')\n",
    "# getContentIntoFile('nytimes_Dramamovies_urls.txt', 'nytimes_Dramamovies.txt')\n",
    "# getContentIntoFile('nytimes_Thrillermovies_urls.txt', 'nytimes_Thrillermovies.txt')"
   ]
  },
  {
   "cell_type": "code",
   "execution_count": null,
   "metadata": {},
   "outputs": [],
   "source": []
  }
 ],
 "metadata": {
  "kernelspec": {
   "display_name": "Python 3",
   "language": "python",
   "name": "python3"
  },
  "language_info": {
   "codemirror_mode": {
    "name": "ipython",
    "version": 3
   },
   "file_extension": ".py",
   "mimetype": "text/x-python",
   "name": "python",
   "nbconvert_exporter": "python",
   "pygments_lexer": "ipython3",
   "version": "3.6.5"
  }
 },
 "nbformat": 4,
 "nbformat_minor": 2
}
