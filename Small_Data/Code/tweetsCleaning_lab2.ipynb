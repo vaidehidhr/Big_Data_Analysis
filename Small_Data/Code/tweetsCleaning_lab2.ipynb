{
 "cells": [
  {
   "cell_type": "code",
   "execution_count": 41,
   "metadata": {},
   "outputs": [],
   "source": [
    "def cleanTweets(fileName, toCreateFileName):\n",
    "    import re\n",
    "    import os\n",
    "    import string\n",
    "    import nltk\n",
    "    from nltk.corpus import stopwords\n",
    "    from nltk.stem.porter import PorterStemmer\n",
    "    import csv\n",
    "    from nltk.corpus import wordnet as wn\n",
    "    from nltk.stem.wordnet import WordNetLemmatizer\n",
    "    import pandas as pd\n",
    "    from pandas import DataFrame\n",
    "    \n",
    "    lemmatizer = WordNetLemmatizer() \n",
    "    stop_words = set(stopwords.words('english'))\n",
    "    stop_words.add('co')\n",
    "    stop_words.add('https')\n",
    "    stop_words.add('like')\n",
    "    stop_words.add('also')\n",
    "    stop_words.add('one')\n",
    "    stop_words.add('two')\n",
    "    stop_words.add('would')\n",
    "    stop_words.add('rt')\n",
    "    file = open(fileName, 'r',encoding='utf-8')\n",
    "    filereader = csv.reader(file)\n",
    "    count = 0\n",
    "\n",
    "    for row in filereader:\n",
    "        inner_contents=row[1].strip()\n",
    "        actualString = inner_contents.lower()\n",
    "        stemmed = lemmatizer.lemmatize(actualString) \n",
    "        result = re.sub('x.','', stemmed)\n",
    "        result=re.sub('[\\W\\_]',' ',result) #Remove special chars\n",
    "        result = re.sub(\" \\d+\", \" \", result) #Remove numbers\n",
    "        result = re.sub(\"b \", \" \", result)\n",
    "        result = re.sub('(\\\\b[A-Za-z] \\\\b|\\\\b [A-Za-z]\\\\b)', '', result)    \n",
    "        x=result.split(\" \")\n",
    "        filtered_sentence = [w for w in x if not w in stop_words]\n",
    "        filtered_sentence = list(filter(None, filtered_sentence))\n",
    "        for x in filtered_sentence:\n",
    "            f = open(toCreateFileName+str(count)+'.txt','a+')\n",
    "            f.write(x+' ')\n",
    "            f.close()\n",
    "            statinfo = os.stat(toCreateFileName+str(count)+'.txt')\n",
    "            if (statinfo.st_size > 5000):\n",
    "                count = count + 1\n",
    "    file.close()"
   ]
  },
  {
   "cell_type": "code",
   "execution_count": 42,
   "metadata": {},
   "outputs": [
    {
     "name": "stdout",
     "output_type": "stream",
     "text": [
      "{'ll', 'they', 't', 'most', 'o', 'their', 'mustn', 'in', 'one', \"wouldn't\", 'that', 'or', 'should', 'also', \"isn't\", 'and', 'until', 've', 'if', 'very', 'mightn', 'the', 'off', \"it's\", 'hers', 'to', 'didn', 'all', 'needn', 'yours', \"should've\", 'weren', 'over', 'm', 'just', 'of', 'than', 'more', 're', 'she', 'about', 'rt', 'nor', 'only', 'i', 'a', \"mightn't\", 'how', 'doesn', 'before', 'why', 'you', 'while', 'too', 'yourselves', \"don't\", 'as', \"weren't\", 'for', 'during', 'ma', 'with', 'above', 'has', 'isn', 'each', 'have', 'such', 'other', 'having', 'shan', 'it', 'once', 'so', \"shouldn't\", 'whom', 'from', 'no', 'is', \"mustn't\", 'up', 'were', 'me', 'under', 'there', 'your', \"shan't\", 'do', \"aren't\", \"you'll\", 'here', 'hasn', 'been', 'on', 'wouldn', 'themselves', \"that'll\", \"doesn't\", 'through', 'out', 'does', 'myself', 'we', 'an', 'haven', 'did', \"didn't\", \"haven't\", \"hadn't\", 'some', 'are', 'would', 'further', 'itself', 'those', 'at', 'what', 'hadn', 'ain', 'am', \"needn't\", \"you'd\", \"hasn't\", 'like', 'yourself', 'which', 'our', 'co', 'don', 'her', 'but', \"you've\", 'by', 'against', 'had', 'being', 'aren', 'couldn', 'who', 'be', 'him', 'down', 'now', 'this', 'he', 'not', 'shouldn', 'both', 'two', \"wasn't\", 'will', 'between', 'few', 'theirs', 'wasn', 'his', 'was', 'https', 'himself', 'my', 'ours', \"she's\", 'its', 'where', 'same', 'can', 'these', 'd', 'ourselves', 'below', 'when', \"couldn't\", 'into', 'own', 's', 'herself', 'then', 'them', 'after', 'won', \"you're\", 'y', 'any', \"won't\", 'because', 'again', 'doing'}\n"
     ]
    },
    {
     "ename": "KeyboardInterrupt",
     "evalue": "",
     "output_type": "error",
     "traceback": [
      "\u001b[1;31m---------------------------------------------------------------------------\u001b[0m",
      "\u001b[1;31mKeyboardInterrupt\u001b[0m                         Traceback (most recent call last)",
      "\u001b[1;32m<ipython-input-42-f7719698898a>\u001b[0m in \u001b[0;36m<module>\u001b[1;34m()\u001b[0m\n\u001b[1;32m----> 1\u001b[1;33m \u001b[0mcleanTweets\u001b[0m\u001b[1;33m(\u001b[0m\u001b[1;34m\"D:/drive-download-20190421T054402Z-001/action_keyword_final.csv\"\u001b[0m\u001b[1;33m,\u001b[0m\u001b[1;34m\"C:/Users/MoMo/tweetsAfterStopwordsRemoval/action_keyword_clean\"\u001b[0m\u001b[1;33m)\u001b[0m\u001b[1;33m\u001b[0m\u001b[0m\n\u001b[0m\u001b[0;32m      2\u001b[0m \u001b[0mcleanTweets\u001b[0m\u001b[1;33m(\u001b[0m\u001b[1;34m\"D:/drive-download-20190421T054402Z-001/Comedy_keyword_final.csv\"\u001b[0m\u001b[1;33m,\u001b[0m\u001b[1;34m\"C:/Users/MoMo/tweetsAfterStopwordsRemoval/Comedy_keyword_clean\"\u001b[0m\u001b[1;33m)\u001b[0m\u001b[1;33m\u001b[0m\u001b[0m\n\u001b[0;32m      3\u001b[0m \u001b[0mcleanTweets\u001b[0m\u001b[1;33m(\u001b[0m\u001b[1;34m\"D:/drive-download-20190421T054402Z-001/Animation_keyword_final.csv\"\u001b[0m\u001b[1;33m,\u001b[0m\u001b[1;34m\"C:/Users/MoMo/tweetsAfterStopwordsRemoval/Animation_keyword_clean\"\u001b[0m\u001b[1;33m)\u001b[0m\u001b[1;33m\u001b[0m\u001b[0m\n\u001b[0;32m      4\u001b[0m \u001b[0mcleanTweets\u001b[0m\u001b[1;33m(\u001b[0m\u001b[1;34m\"D:/drive-download-20190421T054402Z-001/Drama_keyword_final.csv\"\u001b[0m\u001b[1;33m,\u001b[0m\u001b[1;34m\"C:/Users/MoMo/tweetsAfterStopwordsRemoval/Drama_keyword_clean\"\u001b[0m\u001b[1;33m)\u001b[0m\u001b[1;33m\u001b[0m\u001b[0m\n\u001b[0;32m      5\u001b[0m \u001b[0mcleanTweets\u001b[0m\u001b[1;33m(\u001b[0m\u001b[1;34m\"D:/drive-download-20190421T054402Z-001/Crime_keyword_final.csv\"\u001b[0m\u001b[1;33m,\u001b[0m\u001b[1;34m\"C:/Users/MoMo/tweetsAfterStopwordsRemoval/Crime_keyword_clean\"\u001b[0m\u001b[1;33m)\u001b[0m\u001b[1;33m\u001b[0m\u001b[0m\n",
      "\u001b[1;32m<ipython-input-41-259c45b87739>\u001b[0m in \u001b[0;36mcleanTweets\u001b[1;34m(fileName, toCreateFileName)\u001b[0m\n\u001b[0;32m     42\u001b[0m             \u001b[0mf\u001b[0m \u001b[1;33m=\u001b[0m \u001b[0mopen\u001b[0m\u001b[1;33m(\u001b[0m\u001b[0mtoCreateFileName\u001b[0m\u001b[1;33m+\u001b[0m\u001b[0mstr\u001b[0m\u001b[1;33m(\u001b[0m\u001b[0mcount\u001b[0m\u001b[1;33m)\u001b[0m\u001b[1;33m+\u001b[0m\u001b[1;34m'.txt'\u001b[0m\u001b[1;33m,\u001b[0m\u001b[1;34m'a+'\u001b[0m\u001b[1;33m)\u001b[0m\u001b[1;33m\u001b[0m\u001b[0m\n\u001b[0;32m     43\u001b[0m             \u001b[0mf\u001b[0m\u001b[1;33m.\u001b[0m\u001b[0mwrite\u001b[0m\u001b[1;33m(\u001b[0m\u001b[0mx\u001b[0m\u001b[1;33m+\u001b[0m\u001b[1;34m' '\u001b[0m\u001b[1;33m)\u001b[0m\u001b[1;33m\u001b[0m\u001b[0m\n\u001b[1;32m---> 44\u001b[1;33m             \u001b[0mf\u001b[0m\u001b[1;33m.\u001b[0m\u001b[0mclose\u001b[0m\u001b[1;33m(\u001b[0m\u001b[1;33m)\u001b[0m\u001b[1;33m\u001b[0m\u001b[0m\n\u001b[0m\u001b[0;32m     45\u001b[0m             \u001b[0mstatinfo\u001b[0m \u001b[1;33m=\u001b[0m \u001b[0mos\u001b[0m\u001b[1;33m.\u001b[0m\u001b[0mstat\u001b[0m\u001b[1;33m(\u001b[0m\u001b[0mtoCreateFileName\u001b[0m\u001b[1;33m+\u001b[0m\u001b[0mstr\u001b[0m\u001b[1;33m(\u001b[0m\u001b[0mcount\u001b[0m\u001b[1;33m)\u001b[0m\u001b[1;33m+\u001b[0m\u001b[1;34m'.txt'\u001b[0m\u001b[1;33m)\u001b[0m\u001b[1;33m\u001b[0m\u001b[0m\n\u001b[0;32m     46\u001b[0m             \u001b[1;32mif\u001b[0m \u001b[1;33m(\u001b[0m\u001b[0mstatinfo\u001b[0m\u001b[1;33m.\u001b[0m\u001b[0mst_size\u001b[0m \u001b[1;33m>\u001b[0m \u001b[1;36m5000\u001b[0m\u001b[1;33m)\u001b[0m\u001b[1;33m:\u001b[0m\u001b[1;33m\u001b[0m\u001b[0m\n",
      "\u001b[1;31mKeyboardInterrupt\u001b[0m: "
     ]
    }
   ],
   "source": [
    "cleanTweets(\"D:/drive-download-20190421T054402Z-001/action_keyword_final.csv\",\"C:/Users/MoMo/tweetsAfterStopwordsRemoval/action_keyword_clean\")\n",
    "cleanTweets(\"D:/drive-download-20190421T054402Z-001/Comedy_keyword_final.csv\",\"C:/Users/MoMo/tweetsAfterStopwordsRemoval/Comedy_keyword_clean\")\n",
    "cleanTweets(\"D:/drive-download-20190421T054402Z-001/Animation_keyword_final.csv\",\"C:/Users/MoMo/tweetsAfterStopwordsRemoval/Animation_keyword_clean\")\n",
    "cleanTweets(\"D:/drive-download-20190421T054402Z-001/Drama_keyword_final.csv\",\"C:/Users/MoMo/tweetsAfterStopwordsRemoval/Drama_keyword_clean\")\n",
    "cleanTweets(\"D:/drive-download-20190421T054402Z-001/Crime_keyword_final.csv\",\"C:/Users/MoMo/tweetsAfterStopwordsRemoval/Crime_keyword_clean\")\n",
    "cleanTweets(\"D:/drive-download-20190421T054402Z-001/Fantasy_keyword_final.csv\",\"C:/Users/MoMo/tweetsAfterStopwordsRemoval/Fantasy_keyword_clean\")\n",
    "cleanTweets(\"D:/drive-download-20190421T054402Z-001/Horror_keyword_final.csv\",\"C:/Users/MoMo/tweetsAfterStopwordsRemoval/Horror_keyword_clean\")\n",
    "cleanTweets(\"D:/drive-download-20190421T054402Z-001/Romance_keyword_final.csv\",\"C:/Users/MoMo/tweetsAfterStopwordsRemoval/Romance_keyword_clean\")\n",
    "cleanTweets(\"D:/drive-download-20190421T054402Z-001/Social_keyword_final.csv\",\"C:/Users/MoMo/tweetsAfterStopwordsRemoval/Social_keyword_clean\")\n",
    "cleanTweets(\"D:/drive-download-20190421T054402Z-001/Thriller_keyword_final.csv\",\"C:/Users/MoMo/tweetsAfterStopwordsRemoval/Thriller_keyword_clean\")"
   ]
  },
  {
   "cell_type": "code",
   "execution_count": null,
   "metadata": {},
   "outputs": [],
   "source": []
  }
 ],
 "metadata": {
  "kernelspec": {
   "display_name": "Python 3",
   "language": "python",
   "name": "python3"
  },
  "language_info": {
   "codemirror_mode": {
    "name": "ipython",
    "version": 3
   },
   "file_extension": ".py",
   "mimetype": "text/x-python",
   "name": "python",
   "nbconvert_exporter": "python",
   "pygments_lexer": "ipython3",
   "version": "3.6.5"
  }
 },
 "nbformat": 4,
 "nbformat_minor": 2
}
